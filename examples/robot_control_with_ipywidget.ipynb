{
 "cells": [
  {
   "cell_type": "markdown",
   "metadata": {},
   "source": [
    "## Integrate ipywidgets, ipympl, and NexMotion API to build UI for controlling NexCOBOT MiniBot\n",
    "### Note:\n",
    "NexMotion Library is Windows DLL, this demo use zugbruecke, a python module, to call functions in Windows DLL under customized build Linux Docker Container. \n",
    "\n",
    "### How to run this demo\n",
    "* Select each cell by left click it (such as click on `[1]` ) and press `shift+Enter` to run the cell. Also, could press direction key (up/down) to select cells.\n",
    "* In JupyterLab mode, Right Click it and select `Create New View for Output`.\n",
    "* (Option) You can try [this demo](./NexMotion-Python_API/NexMotion_API_Demo.ipynb) for more detail about using NexMotion api (less ipywidget).\n",
    "\n",
    "### Knowing issues:\n",
    "* Wave your mouse cursor inside `ipympl` canvas area when the canvas (tf view) did not update/refresh. 3D tf view is build with `ipympl` (matplotlib jupyter extension) and update in the background by `threading`. The view (canvas) maynot update when the data points updated in the background.\n",
    "\n",
    "* `zugbruecke` may cause `threading` failed when you click button to do move command. Please restart the kernel. "
   ]
  },
  {
   "cell_type": "markdown",
   "metadata": {},
   "source": [
    "## 1. Import ipywidgets for creating interactive UI\n",
    "[Reference](https://ipywidgets.readthedocs.io/en/latest/examples/Using%20Interact.html)"
   ]
  },
  {
   "cell_type": "code",
   "execution_count": 1,
   "metadata": {},
   "outputs": [],
   "source": [
    "import ipywidgets as widgets\n",
    "from IPython.display import display, HTML, Image\n",
    "from ipywidgets import interact, interactive, fixed, interact_manual\n",
    "from ipywidgets import HBox, VBox, AppLayout, Layout\n",
    "\n",
    "# Utilize threading to update certain widget from background\n",
    "import threading\n",
    "import time\n",
    "\n",
    "keep_monitor = True\n",
    "lock = threading.Lock()\n",
    "rlock = threading.RLock()\n",
    "\n",
    "def update_display(func, widge_arr, time_step=0.5):\n",
    "    global keep_monitor\n",
    "    while keep_monitor:\n",
    "        ret_val = func()\n",
    "        if len(ret_val) != len(widge_arr):\n",
    "            print(\"element of return value and widge are not equal!\\n\")\n",
    "            break\n",
    "        for i in range(6):\n",
    "            widge_arr[i].value = ret_val[i]\n",
    "        time.sleep(time_step)\n"
   ]
  },
  {
   "cell_type": "markdown",
   "metadata": {},
   "source": [
    "## 2. Import lib for MiniBOT (control robot arm)"
   ]
  },
  {
   "cell_type": "code",
   "execution_count": 2,
   "metadata": {},
   "outputs": [],
   "source": [
    "%config IPCompleter.greedy=True\n",
    "import sys\n",
    "sys.path.append(\"/home/jovyan/work/NexMotion-Python_API/\")\n",
    "import nexmotion as nm\n",
    "from nexmotion.errors import *\n",
    "from nexmotion.constants import *\n",
    "import pandas as pd\n",
    "dll_path = None"
   ]
  },
  {
   "cell_type": "code",
   "execution_count": null,
   "metadata": {},
   "outputs": [],
   "source": [
    "# Start Device (robot arm)\n",
    "if dll_path is None:\n",
    "    nmc = nm.Control()  # will use default path for dll and ini file\n",
    "else:\n",
    "    nmc = nm.Control(dll_path=dll_path)\n",
    "ret = nmc.deviceOpenup(type_=DEVICE_TYPE_SIMULATOR) # DEVICE_TYPE_SIMULATOR for simulation\n",
    "if ret != nm.errors.SUCCESS:\n",
    "    print(\"NMC_DeviceOpenUp error, error code =\", ret)"
   ]
  },
  {
   "cell_type": "markdown",
   "metadata": {},
   "source": [
    "## 3. Check group state\n",
    "Here are all possible group (movement) state:\n",
    "Get the state of group. You could run this cell mutliple time to check the state of robot.  \n",
    "Please refer to the below table for details.\n",
    "\n",
    "|Value | State | Description | \n",
    "|------|:-------:|-------------:| \n",
    "| 0 | GROUP_DISABLE     | A group axis is disabled. | \n",
    "| 1 | GROUP_STAND_STILL | All group axes are enabled. | \n",
    "| 2 | GROUP_STOPPED     | After NMC_GroupStop() is called, the group is stopped. |\n",
    "| 3 | GROUP_STOPPING    | After NMC_GroupStop() is called, the group is stopping. |\n",
    "| 4 | GROUP_MOVING      | The group is moving. |\n",
    "| 5 | GROUP_HOMING      | The group is homing. |\n",
    "| 6 | GROUP_ERROR_STOP  | An error is occurred in a group axis. |\n",
    "\n",
    "##### Note: if Group State == 0 (disable), please run step 4 to servo on in order to move robot arm.\n"
   ]
  },
  {
   "cell_type": "code",
   "execution_count": 6,
   "metadata": {},
   "outputs": [
    {
     "name": "stdout",
     "output_type": "stream",
     "text": [
      "Group State =  1\n"
     ]
    }
   ],
   "source": [
    "# Check group state\n",
    "ret = nmc.groupGetState()\n",
    "if ret != SUCCESS:\n",
    "    print( \"groupGetState error, error code =\", ret)\n",
    "else:\n",
    "    print( \"Group State = \", nmc.groupState_.value)"
   ]
  },
  {
   "cell_type": "markdown",
   "metadata": {},
   "source": [
    "## 4. Enable all axes of group (Servo On)\n",
    "MiniBot will make a sound when it is enabled.\n",
    "And, group sate will be changed (could run step **3** to check again)  \n",
    "Note: need to Enable before running any movement command"
   ]
  },
  {
   "cell_type": "code",
   "execution_count": null,
   "metadata": {},
   "outputs": [],
   "source": [
    "ret = nmc.groupEnable()\n",
    "if ret != SUCCESS:\n",
    "    print( \"NMC_DeviceEnableAll error, error code =\", ret)\n",
    "else:\n",
    "    print( \"enable all done\" )"
   ]
  },
  {
   "cell_type": "markdown",
   "metadata": {},
   "source": [
    "## 5. Draw Robot 3D tf View\n",
    "This cell show how to use MplVisual Class, matplotlib-base, to show transformation coordination of each joint in 3D (like ROS-RViz tf view).\n",
    "\n",
    "#### Hint: \n",
    "In JupyterLab mode, Right Click it (left `[#]`) and select `Create New View for Output`. JupyterLab will put 3D tf view on another tab. Make it easy to check when running the rest of cell.\n"
   ]
  },
  {
   "cell_type": "code",
   "execution_count": 7,
   "metadata": {},
   "outputs": [
    {
     "data": {
      "application/vnd.jupyter.widget-view+json": {
       "model_id": "7429dd41ca1b4a308e6f8154d51790de",
       "version_major": 2,
       "version_minor": 0
      },
      "text/plain": [
       "Canvas(toolbar=Toolbar(toolitems=[('Home', 'Reset original view', 'home', 'home'), ('Back', 'Back to previous …"
      ]
     },
     "metadata": {},
     "output_type": "display_data"
    }
   ],
   "source": [
    "%matplotlib widget\n",
    "import matplotlib.pyplot as plt\n",
    "from mpl_toolkits.mplot3d import axes3d\n",
    "\n",
    "# Create figure canvas to hold 3D tf view\n",
    "fig = plt.figure()\n",
    "ax = fig.add_subplot(111, projection='3d')\n",
    "\n",
    "# Initial MplVisual class with built-in dh parameter\n",
    "nmv = nm.api.MplVisual(ax)   \n",
    "\n",
    "# Compute tf matrix with initial joint value (0, 90, 0, 0, -90, 0)\n",
    "nmv.get_tf_data()\n",
    "nmv.draw_tf_view()  # Draw 3D tf view by Matplotlib\n",
    "fig.show()"
   ]
  },
  {
   "cell_type": "code",
   "execution_count": 12,
   "metadata": {},
   "outputs": [],
   "source": [
    "# Testing with fake joint values\n",
    "nmv.update_tf_view([0, 45, 0, 0, -45, 90])"
   ]
  },
  {
   "cell_type": "markdown",
   "metadata": {},
   "source": [
    "### 6. Show Actual Joint Position\n",
    "This cell can be called to check actual joint values after you move or home the Minibot.  \n",
    "Here, I use `threading` to get joint position and update to text-based & ipympl widget in the background.  \n",
    "For controlling real MiniBOT, make sure you do homing process (or the output will not show correctly) \n",
    "\n",
    "**Note:**\n",
    "\n",
    "In current demo, the tf view (`ipympl`) canvas not work well with threading, need to wave your mouse cursor inside cavas area to trigger redraw."
   ]
  },
  {
   "cell_type": "code",
   "execution_count": 9,
   "metadata": {},
   "outputs": [
    {
     "data": {
      "application/vnd.jupyter.widget-view+json": {
       "model_id": "d0c36f4310f14d5493c62822c3c4d2d0",
       "version_major": 2,
       "version_minor": 0
      },
      "text/plain": [
       "FloatText(value=0.0, description='J1:', disabled=True)"
      ]
     },
     "metadata": {},
     "output_type": "display_data"
    },
    {
     "data": {
      "application/vnd.jupyter.widget-view+json": {
       "model_id": "b3de90b5140b43a882c919a1443121e2",
       "version_major": 2,
       "version_minor": 0
      },
      "text/plain": [
       "FloatText(value=0.0, description='J2:', disabled=True)"
      ]
     },
     "metadata": {},
     "output_type": "display_data"
    },
    {
     "data": {
      "application/vnd.jupyter.widget-view+json": {
       "model_id": "451006dc8e0445439fd391a7df19b3ff",
       "version_major": 2,
       "version_minor": 0
      },
      "text/plain": [
       "FloatText(value=0.0, description='J3:', disabled=True)"
      ]
     },
     "metadata": {},
     "output_type": "display_data"
    },
    {
     "data": {
      "application/vnd.jupyter.widget-view+json": {
       "model_id": "1a1f0483052e4878abce24e2a1eacdcf",
       "version_major": 2,
       "version_minor": 0
      },
      "text/plain": [
       "FloatText(value=0.0, description='J4:', disabled=True)"
      ]
     },
     "metadata": {},
     "output_type": "display_data"
    },
    {
     "data": {
      "application/vnd.jupyter.widget-view+json": {
       "model_id": "fe53902e02f64731902fa539cf8fb3c8",
       "version_major": 2,
       "version_minor": 0
      },
      "text/plain": [
       "FloatText(value=0.0, description='J5:', disabled=True)"
      ]
     },
     "metadata": {},
     "output_type": "display_data"
    },
    {
     "data": {
      "application/vnd.jupyter.widget-view+json": {
       "model_id": "f99052521b6d4794aea32a7be987576d",
       "version_major": 2,
       "version_minor": 0
      },
      "text/plain": [
       "FloatText(value=0.0, description='J6:', disabled=True)"
      ]
     },
     "metadata": {},
     "output_type": "display_data"
    }
   ],
   "source": [
    "def get_jnt_position():\n",
    "    jntPos = [0.] * 6\n",
    "    with lock:\n",
    "        ret = nmc.groupGetActualPosAcs(jntPos)\n",
    "    if ret != SUCCESS:\n",
    "        print( \"NMC_GroupGetActualPosAcs error, error code =\", ret)\n",
    "    else:\n",
    "        with lock:\n",
    "            nmv.update_tf_view(jntPos)\n",
    "            #fig.canvas.draw()        # this will make ipympl reposne faster, but will ruin canvas soon.\n",
    "            #fig.canvas.flush_events()\n",
    "    return jntPos\n",
    "\n",
    "\n",
    "jnt_wids = [ widgets.FloatText( value=0, description='J'+ str(i+1) + ':', disabled=True)  \\\n",
    "           for i in range(6)]\n",
    "for i in range(6):\n",
    "    display(jnt_wids[i])\n",
    "        \n",
    "thread_jnt = threading.Thread(target=update_display, args=(get_jnt_position, jnt_wids, 0.25))\n",
    "thread_jnt.start()"
   ]
  },
  {
   "cell_type": "markdown",
   "metadata": {},
   "source": [
    "### 7. Show Actual Cartesian Position \n",
    "This step can be called to check actual cartesian values."
   ]
  },
  {
   "cell_type": "code",
   "execution_count": 13,
   "metadata": {},
   "outputs": [
    {
     "data": {
      "application/vnd.jupyter.widget-view+json": {
       "model_id": "1d969e824b1f4f46bf78f91685c88d0e",
       "version_major": 2,
       "version_minor": 0
      },
      "text/plain": [
       "FloatText(value=0.0, description='x val:', disabled=True)"
      ]
     },
     "metadata": {},
     "output_type": "display_data"
    },
    {
     "data": {
      "application/vnd.jupyter.widget-view+json": {
       "model_id": "0ee7a2a9c990476b83d1a13841a518ea",
       "version_major": 2,
       "version_minor": 0
      },
      "text/plain": [
       "FloatText(value=0.0, description='y val:', disabled=True)"
      ]
     },
     "metadata": {},
     "output_type": "display_data"
    },
    {
     "data": {
      "application/vnd.jupyter.widget-view+json": {
       "model_id": "da2d4dd0bb614dfb8ef8ec30e627db85",
       "version_major": 2,
       "version_minor": 0
      },
      "text/plain": [
       "FloatText(value=0.0, description='z val:', disabled=True)"
      ]
     },
     "metadata": {},
     "output_type": "display_data"
    },
    {
     "data": {
      "application/vnd.jupyter.widget-view+json": {
       "model_id": "9b0521e3d0e14dc69c12af1e1071306b",
       "version_major": 2,
       "version_minor": 0
      },
      "text/plain": [
       "FloatText(value=0.0, description='a val:', disabled=True)"
      ]
     },
     "metadata": {},
     "output_type": "display_data"
    },
    {
     "data": {
      "application/vnd.jupyter.widget-view+json": {
       "model_id": "572217e18fd44d23b86d621c7f158f8c",
       "version_major": 2,
       "version_minor": 0
      },
      "text/plain": [
       "FloatText(value=0.0, description='b val:', disabled=True)"
      ]
     },
     "metadata": {},
     "output_type": "display_data"
    },
    {
     "data": {
      "application/vnd.jupyter.widget-view+json": {
       "model_id": "5afbc7be676c45259414cff99f3845af",
       "version_major": 2,
       "version_minor": 0
      },
      "text/plain": [
       "FloatText(value=0.0, description='c val:', disabled=True)"
      ]
     },
     "metadata": {},
     "output_type": "display_data"
    }
   ],
   "source": [
    "def get_cart_position():\n",
    "    #get current cartesian value\n",
    "    cartPos = [0.] * 6\n",
    "    with lock:\n",
    "        ret = nmc.groupGetActualPosPcs(cartPos)\n",
    "    if ret != SUCCESS:\n",
    "        print( \"groupGetActualPosPcs error, error code =\", ret)\n",
    "    else:\n",
    "        pass\n",
    "    return cartPos\n",
    "\n",
    "cart_list= ['x','y','z','a','b','c']\n",
    "cart_wids = [ widgets.FloatText( value=0, description= cart_list[i] + ' val' + ':', disabled=True)  \\\n",
    "           for i in range(6)]\n",
    "for i in range(6):\n",
    "    display(cart_wids[i])\n",
    "        \n",
    "thread_cart = threading.Thread(target=update_display, args=(get_cart_position, cart_wids, 0.25))\n",
    "thread_cart.start()"
   ]
  },
  {
   "cell_type": "markdown",
   "metadata": {},
   "source": [
    "## 8. Execute Group PTP motion with ipywidget UI\n",
    "##### Note: Please make sure all the joints are finish homing (if controlling real MiniBOT)"
   ]
  },
  {
   "cell_type": "markdown",
   "metadata": {},
   "source": [
    "### 8.1. Group PTP by absoluted joint position\n",
    "Note: Please make sure you know the absoluted joint value according current robot pose."
   ]
  },
  {
   "cell_type": "code",
   "execution_count": 14,
   "metadata": {},
   "outputs": [
    {
     "data": {
      "application/vnd.jupyter.widget-view+json": {
       "model_id": "8406d73ec5464fd6ac330286e0309787",
       "version_major": 2,
       "version_minor": 0
      },
      "text/plain": [
       "interactive(children=(BoundedFloatText(value=0.0, description='J1:', max=150.0, min=-150.0, step=1.0), Bounded…"
      ]
     },
     "metadata": {},
     "output_type": "display_data"
    }
   ],
   "source": [
    "# set to initial position\n",
    "\n",
    "@interact_manual(j1=widgets.BoundedFloatText(value=0., min=-150.0, max=150.0, step=1, description='J1:', disabled=False), \n",
    "                 j2=widgets.BoundedFloatText(value=90., min=0.0, max=150.0, step=1, description='J2:', disabled=False), \n",
    "                 j3=widgets.BoundedFloatText(value=0., min=-30.0, max=50.0, step=1, description='J3:', disabled=False), \n",
    "                 j4=widgets.BoundedFloatText(value=0., min=-100.0, max=100.0, step=1, description='J4:', disabled=False), \n",
    "                 j5=widgets.BoundedFloatText(value=-90., min=-100.0, max=100.0, step=1, description='J5:', disabled=False), \n",
    "                 j6=widgets.BoundedFloatText(value=0., min=-200.0, max=200.0, step=1, description='J6:', disabled=False))\n",
    "def groupPTPAbs(j1, j2, j3, j4, j5, j6):\n",
    "    desPos = [j1, j2, j3, j4, j5, j6]\n",
    "    nmc.groupPtpAcsAll(desPos)\n"
   ]
  },
  {
   "cell_type": "markdown",
   "metadata": {},
   "source": [
    "### 8.2. Group PTP by relative joint position"
   ]
  },
  {
   "cell_type": "code",
   "execution_count": null,
   "metadata": {},
   "outputs": [],
   "source": [
    "rel_list = [-5, -1, -0.1, 0, 0.1, 1, 5]\n",
    "@interact_manual(j1=widgets.Dropdown(options=rel_list,value=0,description='J1 Rel(deg):',disabled=False,), \n",
    "                 j2=widgets.Dropdown(options=rel_list,value=0,description='J2 Rel(deg):',disabled=False,), \n",
    "                 j3=widgets.Dropdown(options=rel_list,value=0,description='J3 Rel(deg):',disabled=False,), \n",
    "                 j4=widgets.Dropdown(options=rel_list,value=0,description='J4 Rel(deg):',disabled=False,), \n",
    "                 j5=widgets.Dropdown(options=rel_list,value=0,description='J5 Rel(deg):',disabled=False,), \n",
    "                 j6=widgets.Dropdown(options=rel_list,value=0,description='J6 Rel(deg):',disabled=False,))\n",
    "def groupPTPRel(j1, j2, j3, j4, j5, j6):\n",
    "    desPos = [0.] * 6\n",
    "    ret = nmc.groupGetActualPosAcs(desPos)\n",
    "    #print desPos\n",
    "    desPos[0] += j1; desPos[1] += j2; desPos[2] += j3\n",
    "    desPos[3] += j4; desPos[4] += j5; desPos[5] += j6\n",
    "    nmc.groupPtpAcsAll(desPos)\n"
   ]
  },
  {
   "cell_type": "markdown",
   "metadata": {},
   "source": [
    "## 9. Execute Group Line motion by relative Carteisan position"
   ]
  },
  {
   "cell_type": "code",
   "execution_count": 15,
   "metadata": {},
   "outputs": [
    {
     "data": {
      "application/vnd.jupyter.widget-view+json": {
       "model_id": "0ca1bbab154a4d5e9b0bdff98e511241",
       "version_major": 2,
       "version_minor": 0
      },
      "text/plain": [
       "interactive(children=(Dropdown(description='X Rel(mm):', index=4, options=(-30, -10, -5, -1, 0, 1, 5, 10, 30),…"
      ]
     },
     "metadata": {},
     "output_type": "display_data"
    }
   ],
   "source": [
    "rel_list = [-30, -10, -5, -1, 0, 1, 5, 10, 30]\n",
    "@interact_manual(x_rel=widgets.Dropdown(options=rel_list,value=0,description='X Rel(mm):',disabled=False,), \n",
    "                 y_rel=widgets.Dropdown(options=rel_list,value=0,description='Y Rel(mm):',disabled=False,), \n",
    "                 z_rel=widgets.Dropdown(options=rel_list,value=0,description='Z Rel(mm):',disabled=False,), \n",
    "                 a_rel=widgets.Dropdown(options=rel_list,value=0,description='A Rel(deg):',disabled=False,), \n",
    "                 b_rel=widgets.Dropdown(options=rel_list,value=0,description='B Rel(deg):',disabled=False,), \n",
    "                 c_rel=widgets.Dropdown(options=rel_list,value=0,description='C Rel(deg):',disabled=False,))\n",
    "def groupPTPRel(x_rel, y_rel, z_rel, a_rel, b_rel, c_rel):\n",
    "    desPos = [0.] * 6\n",
    "    nmc.groupGetActualPosPcs(desPos)\n",
    "    #print Pos\n",
    "    desPos[0] += x_rel; desPos[1] += y_rel; desPos[2] += z_rel\n",
    "    desPos[3] += a_rel; desPos[4] += b_rel; desPos[5] += c_rel\n",
    "    nmc.groupLine(desPos)"
   ]
  },
  {
   "cell_type": "markdown",
   "metadata": {},
   "source": [
    "## 10. Use AppLayout to combine all widgets (WIP)"
   ]
  },
  {
   "cell_type": "code",
   "execution_count": 16,
   "metadata": {},
   "outputs": [
    {
     "data": {
      "application/vnd.jupyter.widget-view+json": {
       "model_id": "aa5fa9c5f6884fa7832fd91c02be1596",
       "version_major": 2,
       "version_minor": 0
      },
      "text/plain": [
       "AppLayout(children=(VBox(children=(VBox(children=(FloatText(value=0.003409090909090909, description='J1:', dis…"
      ]
     },
     "metadata": {},
     "output_type": "display_data"
    }
   ],
   "source": [
    "fig.canvas.layout.min_height = '400px'\n",
    "fig.canvas.layout.min_width = '400px'\n",
    "fig.canvas.header_visible=False\n",
    "fig.canvas.toolbar_visible=False\n",
    "fig.canvas.footer_visible=False\n",
    "\n",
    "jnt_grp = VBox([w for w in jnt_wids])\n",
    "jnt_grp.layout.width='400px'\n",
    "cart_grp = VBox([w for w in cart_wids])\n",
    "cart_grp.layout.width='400px'  #'auto'\n",
    "\n",
    "Control_UI = AppLayout(header=None,\n",
    "                       left_sidebar=None,\n",
    "                       center=fig.canvas,\n",
    "                       right_sidebar= VBox([jnt_grp, cart_grp]),\n",
    "                       footer=None,\n",
    "                       pane_widths=[0, '500px', '450px'],\n",
    "                       pane_heights=[0, 5, '0px'])\n",
    "Control_UI"
   ]
  },
  {
   "cell_type": "markdown",
   "metadata": {},
   "source": [
    "### 11. Disable all axes of group (Servo Off)\n",
    "MiniBot will make a sound when it is disabled."
   ]
  },
  {
   "cell_type": "code",
   "execution_count": 17,
   "metadata": {},
   "outputs": [
    {
     "data": {
      "text/plain": [
       "0"
      ]
     },
     "execution_count": 17,
     "metadata": {},
     "output_type": "execute_result"
    }
   ],
   "source": [
    "nmc.groupDisable()"
   ]
  },
  {
   "cell_type": "markdown",
   "metadata": {},
   "source": [
    "### 12. Shutdown device"
   ]
  },
  {
   "cell_type": "code",
   "execution_count": 18,
   "metadata": {},
   "outputs": [
    {
     "data": {
      "text/plain": [
       "0"
      ]
     },
     "execution_count": 18,
     "metadata": {},
     "output_type": "execute_result"
    }
   ],
   "source": [
    "# Stop threads that keep asking joint & Cartesian position\n",
    "keep_monitor = False\n",
    "nmc.deviceShutdown()"
   ]
  },
  {
   "cell_type": "code",
   "execution_count": null,
   "metadata": {},
   "outputs": [],
   "source": []
  }
 ],
 "metadata": {
  "kernelspec": {
   "display_name": "Python 3",
   "language": "python",
   "name": "python3"
  },
  "language_info": {
   "codemirror_mode": {
    "name": "ipython",
    "version": 3
   },
   "file_extension": ".py",
   "mimetype": "text/x-python",
   "name": "python",
   "nbconvert_exporter": "python",
   "pygments_lexer": "ipython3",
   "version": "3.7.6"
  }
 },
 "nbformat": 4,
 "nbformat_minor": 4
}
